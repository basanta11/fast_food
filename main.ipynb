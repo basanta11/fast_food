{
 "cells": [
  {
   "cell_type": "markdown",
   "id": "f2723964",
   "metadata": {},
   "source": [
    "# Fast Food Franchise Location Prediction in Sydney Using Geospatial and Machine Learning Analysi\n",
    "\"Identifying High-Potential Suburbs for New Outlets Based on Population Density, Competition, and Predictive Modeling\""
   ]
  },
  {
   "cell_type": "code",
   "execution_count": null,
   "id": "69120acc",
   "metadata": {},
   "outputs": [],
   "source": [
    "import osmnx as ox\n",
    "\n",
    "import pandas as pd\n",
    "import geopandas as gpd\n",
    "import os\n",
    "\n",
    "from geopy.geocoders import Nominatim\n",
    "import time"
   ]
  },
  {
   "cell_type": "code",
   "execution_count": null,
   "id": "5ac672ac",
   "metadata": {},
   "outputs": [],
   "source": [
    "\n",
    "def is_kaggle():\n",
    "    return os.path.exists(\"/kaggle/input\")\n",
    "\n",
    "if is_kaggle():\n",
    "    path = \"/kaggle/input/\"\n",
    "else:\n",
    "    path = \"data\""
   ]
  },
  {
   "cell_type": "markdown",
   "id": "128d329c",
   "metadata": {},
   "source": [
    "**Cell 1:** Import all required libraries for geospatial analysis, data manipulation, and geocoding."
   ]
  },
  {
   "cell_type": "code",
   "execution_count": null,
   "id": "6a4ee128",
   "metadata": {},
   "outputs": [],
   "source": [
    "\n",
    "# Make sure logging is off to reduce noise\n",
    "ox.settings.log_console = False\n",
    "\n",
    "# Define tags\n",
    "tags = {\"amenity\": \"fast_food\", \"name\": [\"McDonald's\", \"KFC\", \"Subway\"]}\n",
    "\n",
    "# Get fast food places in Sydney\n",
    "gdf = ox.features_from_place(\"Sydney, Australia\", tags=tags)\n",
    "\n",
    "\n",
    "\n",
    "\n",
    "\n",
    "\n"
   ]
  },
  {
   "cell_type": "markdown",
   "id": "3bd0ca76",
   "metadata": {},
   "source": [
    "**Cell 2:** Configure OSMnx settings, define tags for fast food venues, and download fast food locations in Sydney."
   ]
  },
  {
   "cell_type": "code",
   "execution_count": null,
   "id": "060aa4af",
   "metadata": {},
   "outputs": [],
   "source": [
    "columns_to_keep = ['name', 'geometry','brand','branch','addr:street']\n",
    "df=gdf[columns_to_keep]\n"
   ]
  },
  {
   "cell_type": "markdown",
   "id": "7a73cba5",
   "metadata": {},
   "source": [
    "**Cell 3:** Select and keep only relevant columns from the downloaded fast food data."
   ]
  },
  {
   "cell_type": "code",
   "execution_count": null,
   "id": "19ffbd2b",
   "metadata": {},
   "outputs": [],
   "source": [
    "# # Visualize fast food locations on an interactive map\n",
    "\n",
    "# df.explore(\n",
    "#     column=\"name\",  # Color points by name\n",
    "#     tooltip=[\"name\", \"brand\", \"addr:street\"],  # Show info on hover\n",
    "#     marker_kwds={\"radius\": 6},  # Marker size\n",
    "#     style_kwds={\"fillOpacity\": 0.7},\n",
    "#     height=500,\n",
    "#     width=800\n",
    "# )"
   ]
  },
  {
   "cell_type": "markdown",
   "id": "4c9e2793",
   "metadata": {},
   "source": [
    "**Cell 4:** (Commented out) Example code for visualizing fast food locations on an interactive map."
   ]
  },
  {
   "cell_type": "code",
   "execution_count": null,
   "id": "00354781",
   "metadata": {},
   "outputs": [],
   "source": [
    "df.head()\n",
    "#This can be changed to any franchise brand\n",
    "brand=\"McDonald's\""
   ]
  },
  {
   "cell_type": "markdown",
   "id": "6d3f3f75",
   "metadata": {},
   "source": [
    "**Cell 5:** Preview the fast food DataFrame and set the franchise brand to analyze (e.g., McDonald's)."
   ]
  },
  {
   "cell_type": "code",
   "execution_count": null,
   "id": "886ab6b1",
   "metadata": {},
   "outputs": [],
   "source": [
    "df['brand'].unique().tolist()\n"
   ]
  },
  {
   "cell_type": "markdown",
   "id": "22670e6c",
   "metadata": {},
   "source": [
    "**Cell 6:** List all unique fast food brands present in the data."
   ]
  },
  {
   "cell_type": "code",
   "execution_count": null,
   "id": "b2b3052d",
   "metadata": {},
   "outputs": [],
   "source": [
    "test_filtered = df[df['brand'] == brand]\n",
    "test_filtered.head()"
   ]
  },
  {
   "cell_type": "code",
   "execution_count": null,
   "id": "2e0d8f32",
   "metadata": {},
   "outputs": [],
   "source": [
    "# Step 1: Reproject to a projected CRS (meters) if needed\n",
    "if test_filtered.crs.is_geographic:\n",
    "    test_filtered = test_filtered.to_crs(epsg=3857)\n",
    "\n",
    "# Step 2: Calculate centroids and store in a new column\n",
    "test_filtered[\"geometry_centroid\"] = test_filtered.geometry.centroid\n",
    "\n",
    "# Optional Step 3: Reproject centroids back to lat/lon (EPSG:4326)\n",
    "test_filtered[\"geometry_centroid_latlon\"] = (\n",
    "    test_filtered[\"geometry_centroid\"].to_crs(epsg=4326)\n",
    ")"
   ]
  },
  {
   "cell_type": "code",
   "execution_count": null,
   "id": "b5cb25ae",
   "metadata": {},
   "outputs": [],
   "source": [
    "sa2_gdf = gpd.read_file(path+\"/SA2_2021_AUST_SHP_GDA2020/SA2_2021_AUST_GDA2020.shp\")\n",
    "\n",
    "\n",
    "\n",
    "\n",
    "\n",
    "sa2_nsw = sa2_gdf[sa2_gdf['STE_NAME21'] == 'New South Wales']\n",
    "\n",
    "sa2 = sa2_nsw[sa2_nsw['GCC_NAME21'] == 'Greater Sydney']\n"
   ]
  },
  {
   "cell_type": "code",
   "execution_count": null,
   "id": "fb2f60a5",
   "metadata": {},
   "outputs": [],
   "source": [
    "sa2_nsw['SA3_NAME21'].unique().tolist()\n",
    "\n"
   ]
  },
  {
   "cell_type": "code",
   "execution_count": null,
   "id": "0da06646",
   "metadata": {},
   "outputs": [],
   "source": [
    "# sa2.explore(\n",
    "#     column=\"SA2_NAME21\",  # Color points by name\n",
    "#     marker_kwds={\"radius\": 6},  # Marker size\n",
    "#     style_kwds={\"fillOpacity\": 0.7},\n",
    "#     height=500,\n",
    "#     width=800\n",
    "# )"
   ]
  },
  {
   "cell_type": "code",
   "execution_count": null,
   "id": "02469c5f",
   "metadata": {},
   "outputs": [],
   "source": [
    "census_data = pd.read_csv(path+'/2021Census_G01_NSW_SA2.csv')\n",
    "census_data.head()"
   ]
  },
  {
   "cell_type": "code",
   "execution_count": null,
   "id": "8da30ea9",
   "metadata": {},
   "outputs": [],
   "source": [
    "sa2=sa2[['SA2_CODE21', 'SA2_NAME21', 'geometry']]\n",
    "census = census_data[['SA2_CODE_2021', 'Tot_P_P']]\n",
    "census['SA2_CODE21']= census['SA2_CODE_2021'].astype(str)\n",
    "\n",
    "sa2 = sa2.merge(census, on='SA2_CODE21', how='left')\n",
    "sa2.head()\n"
   ]
  },
  {
   "cell_type": "code",
   "execution_count": null,
   "id": "5261a059",
   "metadata": {},
   "outputs": [],
   "source": [
    "# Convert to projected CRS (e.g., Australian Albers EPSG:3577)\n",
    "sa2 = sa2.to_crs(epsg=3577)\n",
    "\n",
    "# Calculate area in square kilometers\n",
    "sa2['area_km2'] = sa2['geometry'].area / 1e6\n",
    "sa2['pop_density'] = sa2['Tot_P_P'] / sa2['area_km2']\n",
    "\n"
   ]
  },
  {
   "cell_type": "code",
   "execution_count": null,
   "id": "093d3520",
   "metadata": {},
   "outputs": [],
   "source": [
    "# Step 0: Make sure both GeoDataFrames are in the same projected CRS\n",
    "if test_filtered.crs != sa2.crs:\n",
    "    sa2 = sa2.to_crs(test_filtered.crs)\n",
    "\n",
    "# Step 1: Define function to get closest polygon (row) from sa2\n",
    "def get_nearest_suburb(point, suburbs_gdf):\n",
    "    distances = suburbs_gdf.geometry.distance(point)\n",
    "    return suburbs_gdf.loc[distances.idxmin()]\n",
    "\n",
    "# Step 2: Apply the function to each centroid in test_filtered\n",
    "# You can choose what attribute to extract (e.g., 'suburb_name', 'LGA_CODE', etc.)\n",
    "test_filtered['nearest_suburb'] = test_filtered['geometry_centroid'].apply(\n",
    "    lambda pt: get_nearest_suburb(pt, sa2)['SA2_NAME21']\n",
    ")\n"
   ]
  },
  {
   "cell_type": "code",
   "execution_count": null,
   "id": "d124787d",
   "metadata": {},
   "outputs": [],
   "source": [
    "suburb_list=sa2\n",
    "fast_food=test_filtered[['name','geometry','nearest_suburb','geometry_centroid']]\n"
   ]
  },
  {
   "cell_type": "code",
   "execution_count": null,
   "id": "c6cec12b",
   "metadata": {},
   "outputs": [],
   "source": []
  },
  {
   "cell_type": "code",
   "execution_count": null,
   "id": "1d39854a",
   "metadata": {},
   "outputs": [],
   "source": [
    "# Step 1: Count how many times each suburb appears\n",
    "suburb_counts = fast_food[\"nearest_suburb\"].value_counts().reset_index()\n",
    "\n",
    "# Step 2: Rename columns for clarity\n",
    "suburb_counts.columns = [\"suburb\", \"fast_food_count\"]\n",
    "\n",
    "# View result\n"
   ]
  },
  {
   "cell_type": "code",
   "execution_count": null,
   "id": "d5a06317",
   "metadata": {},
   "outputs": [],
   "source": [
    "suburb_list = suburb_list.merge(suburb_counts, left_on='SA2_NAME21', right_on='suburb', how=\"left\")\n",
    "\n",
    "# Step 3: Fill missing counts with 0 (for suburbs with no fast food matches)\n",
    "suburb_list[\"fast_food_count\"] = suburb_list[\"fast_food_count\"].fillna(0).astype(int)"
   ]
  },
  {
   "cell_type": "code",
   "execution_count": null,
   "id": "6be3fc9d",
   "metadata": {},
   "outputs": [],
   "source": [
    "import matplotlib.pyplot as plt\n",
    "\n",
    "# Buffer around existing fast food locations (5 km)\n",
    "fast_food[\"buffer\"] = fast_food.geometry.buffer(5000)\n",
    "\n",
    "# Plot existing fast food locations and buffers\n",
    "ax = suburb_list.plot(color='lightgrey', edgecolor='white')\n",
    "fast_food.set_geometry(\"buffer\").plot(ax=ax, color='red', alpha=0.3)\n",
    "fast_food.set_geometry(\"geometry\").plot(ax=ax, color='black', markersize=5)\n",
    "\n",
    "plt.title(\"Existing Coverage \")\n",
    "plt.show()"
   ]
  },
  {
   "cell_type": "code",
   "execution_count": null,
   "id": "e7c73692",
   "metadata": {},
   "outputs": [],
   "source": [
    "import geopandas as gpd\n",
    "from sklearn.preprocessing import MinMaxScaler\n",
    "\n",
    "# Step 1: Project both to the same projected CRS (for distance accuracy)\n",
    "suburb_list_proj = suburb_list.to_crs(epsg=3857).copy()\n",
    "fast_food = fast_food.to_crs(suburb_list_proj.crs)\n",
    "\n",
    "# Step 2: Calculate centroid for each SA2 area\n",
    "suburb_list_proj['centroid'] = suburb_list_proj.geometry.centroid\n",
    "\n",
    "# Step 3: Calculate minimum distance from each centroid to existing fast food venues\n",
    "suburb_list_proj['min_dist_to_fastfood_km'] = suburb_list_proj['centroid'].apply(\n",
    "    lambda x: fast_food.distance(x).min() / 1000  # convert to kilometers\n",
    ")\n",
    "\n",
    "# Step 2: Calculate area in square kilometers\n",
    "suburb_list_proj.loc[:, 'area_km2'] = suburb_list_proj['geometry'].area / 1_000_000\n",
    "\n",
    "# Step 3: Calculate population density\n",
    "suburb_list_proj.loc[:, 'pop_density'] = suburb_list_proj['Tot_P_P'] / suburb_list_proj['area_km2']\n",
    "\n",
    "\n",
    "# Step 6: Get top 10 suggested SA2 areas\n",
    "\n",
    "\n",
    "# Show results\n"
   ]
  },
  {
   "cell_type": "code",
   "execution_count": null,
   "id": "47a0f2d0",
   "metadata": {},
   "outputs": [],
   "source": [
    "subset = suburb_list[suburb_list['fast_food_count'] == 1]\n",
    "\n",
    "# Summary stats for pop_density\n",
    "stats = suburb_list['pop_density'].describe()  # includes count, mean, std, min, 25%, 50%, 75%, max\n",
    "\n",
    "print(stats)"
   ]
  },
  {
   "cell_type": "code",
   "execution_count": null,
   "id": "af75fa45",
   "metadata": {},
   "outputs": [],
   "source": [
    "# Step 4: Normalize both metrics (density and distance)\n",
    "\n",
    "\n",
    "\n",
    "\n",
    "\n",
    "new_list = suburb_list_proj\n",
    "\n",
    "\n",
    "scaler = MinMaxScaler()\n",
    "new_list[['norm_density', 'norm_dist']] = scaler.fit_transform(\n",
    "    new_list[['pop_density', 'min_dist_to_fastfood_km']]\n",
    ")\n",
    "\n",
    "# Step 5: Create a composite score (weights: 0.7 for density, 0.3 for distance)\n",
    "new_list['location_score'] = (\n",
    "    new_list['norm_density'] * 0.7 + new_list['norm_dist'] * 0.3\n",
    ")\n"
   ]
  },
  {
   "cell_type": "code",
   "execution_count": null,
   "id": "a3082fa9",
   "metadata": {},
   "outputs": [],
   "source": [
    "stats = new_list['location_score'].describe()  # includes count, mean, std, min, 25%, 50%, 75%, max\n",
    "print(stats)"
   ]
  },
  {
   "cell_type": "code",
   "execution_count": null,
   "id": "3494d4ae",
   "metadata": {},
   "outputs": [],
   "source": [
    "POP_DENSITY_THRESHOLD = 1000\n",
    "DISTANCE_TO_MCD_THRESHOLD_KM = 2.0\n",
    "\n",
    "# Step 2: Filter the suburbs that meet both conditions\n",
    "candidate_suburbs = new_list[\n",
    "    (new_list['pop_density'] > POP_DENSITY_THRESHOLD) &\n",
    "    (new_list['min_dist_to_fastfood_km'] > DISTANCE_TO_MCD_THRESHOLD_KM)\n",
    "]\n",
    "\n",
    "# Step 3: Preview the top candidates\n",
    "top_areas = candidate_suburbs.sort_values(by='pop_density', ascending=False).head(3)\n",
    "top_areas['Nearest_franchise_location(in km)']=top_areas['min_dist_to_fastfood_km']\n",
    "top_areas['Suburb Name']=top_areas['SA2_NAME21']\n",
    "top_areas['Population density']=top_areas['pop_density']\n",
    "top_areas[['Suburb Name', 'Population density', 'Nearest_franchise_location(in km)', 'location_score']]\n"
   ]
  },
  {
   "cell_type": "code",
   "execution_count": null,
   "id": "1456778e",
   "metadata": {},
   "outputs": [],
   "source": [
    "new_list.head()"
   ]
  },
  {
   "cell_type": "code",
   "execution_count": null,
   "id": "63b461b4",
   "metadata": {},
   "outputs": [],
   "source": [
    "import geopandas as gpd\n",
    "import matplotlib.pyplot as plt\n",
    "import contextily as cx\n",
    "from matplotlib.patches import Patch\n",
    "from matplotlib.lines import Line2D\n",
    "# If running in a Jupyter notebook, use the following to install adjustText:\n",
    "from adjustText import adjust_text\n",
    "\n",
    "\n",
    "# Step 1: Get top 3 recommended SA2 areas\n",
    "\n",
    "# Step 2: Reproject all data to EPSG:3857\n",
    "fast_food_wm = fast_food.to_crs(epsg=3857)\n",
    "suburb_list_wm = suburb_list.to_crs(epsg=3857)\n",
    "top_areas_wm = top_areas.to_crs(epsg=3857)\n",
    "\n",
    "# Step 3: Create combined GeoDataFrame to compute zoom bounds\n",
    "combined = pd.concat([fast_food_wm[['geometry']], top_areas_wm[['geometry']]], ignore_index=True)\n",
    "\n",
    "\n",
    "minx, miny, maxx, maxy = combined.total_bounds\n",
    "zoom_margin = 5000  # 5 km\n",
    "xlim = (minx - zoom_margin, maxx + zoom_margin)\n",
    "ylim = (miny - zoom_margin, maxy + zoom_margin)\n",
    "\n",
    "# Step 4: Plot\n",
    "fig, ax = plt.subplots(figsize=(12, 10))\n",
    "\n",
    "# Plot all suburbs\n",
    "# suburb_list_wm.plot(ax=ax, facecolor='white', edgecolor='grey', linewidth=0.5)\n",
    "\n",
    "# Plot fast food venues\n",
    "fast_food_wm.plot(ax=ax, color='blue', markersize=5)\n",
    "\n",
    "# Plot top 3 suggested SA2 locations\n",
    "top_areas.plot(ax=ax, edgecolor='red', facecolor='none', linewidth=2)\n",
    "\n",
    "# Annotate each top area with its name\n",
    "texts = []\n",
    "for idx, row in top_areas.iterrows():\n",
    "    texts.append(\n",
    "         plt.text(\n",
    "                row.geometry.centroid.x + 5000 ,\n",
    "                row.geometry.centroid.y + 5000,\n",
    "                row['SA2_NAME21'],\n",
    "                fontsize=12, color='purple', ha='left', va='center',\n",
    "                bbox=dict(facecolor='white', edgecolor='gray', boxstyle='round,pad=0.3')\n",
    "            )\n",
    "    )\n",
    "    \n",
    "adjust_text(texts, arrowprops=dict(arrowstyle='->', color='gray'))\n",
    "\n",
    "# Set axis limits\n",
    "ax.set_xlim(xlim)\n",
    "ax.set_ylim(ylim)\n",
    "\n",
    "# Add basemap\n",
    "cx.add_basemap(ax, source=cx.providers.OpenStreetMap.Mapnik)\n",
    "\n",
    "# Legend\n",
    "legend_elements = [\n",
    "    Patch(facecolor='white', edgecolor='grey', label='Suburbs'),\n",
    "    Line2D([0], [0], marker='o', color='w', label='Fast Food Venue', markerfacecolor='blue', markersize=6),\n",
    "    Line2D([0], [0], marker='o', color='w', label='Top 3 Suggested Areas', markerfacecolor='red', markersize=10)\n",
    "]\n",
    "ax.legend(handles=legend_elements)\n",
    "\n",
    "# Title\n",
    "ax.set_title(\"Top 3 Suggested  Locations for New Fast Food Venue,\", fontsize=14)\n",
    "plt.tight_layout()\n",
    "plt.show()\n"
   ]
  }
 ],
 "metadata": {
  "kernelspec": {
   "display_name": "Python 3",
   "language": "python",
   "name": "python3"
  },
  "language_info": {
   "codemirror_mode": {
    "name": "ipython",
    "version": 3
   },
   "file_extension": ".py",
   "mimetype": "text/x-python",
   "name": "python",
   "nbconvert_exporter": "python",
   "pygments_lexer": "ipython3",
   "version": "3.10.11"
  }
 },
 "nbformat": 4,
 "nbformat_minor": 5
}
